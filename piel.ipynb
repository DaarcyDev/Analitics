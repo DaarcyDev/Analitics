{
  "cells": [
    {
      "cell_type": "code",
      "execution_count": 3,
      "metadata": {
        "id": "kP2F-Xwol91A"
      },
      "outputs": [],
      "source": [
        "import pandas as pd\n",
        "from sklearn.svm import SVC \n",
        "from sklearn.preprocessing import LabelEncoder  \n",
        "from sklearn.model_selection import train_test_split  \n",
        "from sklearn.metrics import recall_score, accuracy_score, f1_score, confusion_matrix,classification_report\n",
        "import seaborn as asns\n",
        "from sklearn.tree import DecisionTreeClassifier, export_graphviz\n",
        "import graphviz\n",
        "from IPython.display import Image\n",
        "import pydotplus\n"
      ]
    },
    {
      "cell_type": "code",
      "execution_count": 4,
      "metadata": {
        "colab": {
          "base_uri": "https://localhost:8080/",
          "height": 300
        },
        "id": "o-RsWLv0hQa5",
        "outputId": "20fd8d5b-a6c6-43fc-f8cf-4f38cebf70d6"
      },
      "outputs": [
        {
          "data": {
            "text/html": [
              "<div>\n",
              "<style scoped>\n",
              "    .dataframe tbody tr th:only-of-type {\n",
              "        vertical-align: middle;\n",
              "    }\n",
              "\n",
              "    .dataframe tbody tr th {\n",
              "        vertical-align: top;\n",
              "    }\n",
              "\n",
              "    .dataframe thead th {\n",
              "        text-align: right;\n",
              "    }\n",
              "</style>\n",
              "<table border=\"1\" class=\"dataframe\">\n",
              "  <thead>\n",
              "    <tr style=\"text-align: right;\">\n",
              "      <th></th>\n",
              "      <th>Age At Procurement</th>\n",
              "      <th>Mutation Count</th>\n",
              "      <th>Mutation Status</th>\n",
              "      <th>Person Gender</th>\n",
              "      <th>Primary Tumor Site</th>\n",
              "      <th>Sample Type</th>\n",
              "      <th>Specimen Site</th>\n",
              "      <th>Tissue Source Site</th>\n",
              "      <th>Type</th>\n",
              "    </tr>\n",
              "  </thead>\n",
              "  <tbody>\n",
              "    <tr>\n",
              "      <th>0</th>\n",
              "      <td>85.0</td>\n",
              "      <td>NaN</td>\n",
              "      <td>WT</td>\n",
              "      <td>Male</td>\n",
              "      <td>head/neck</td>\n",
              "      <td>primary</td>\n",
              "      <td>head/neck</td>\n",
              "      <td>Tumor</td>\n",
              "      <td>sun-exposed</td>\n",
              "    </tr>\n",
              "    <tr>\n",
              "      <th>1</th>\n",
              "      <td>NaN</td>\n",
              "      <td>288.0</td>\n",
              "      <td>NRAS-Q61R</td>\n",
              "      <td>Female</td>\n",
              "      <td>extremity</td>\n",
              "      <td>metastasis</td>\n",
              "      <td>extremity</td>\n",
              "      <td>Cell line</td>\n",
              "      <td>sun-exposed</td>\n",
              "    </tr>\n",
              "    <tr>\n",
              "      <th>2</th>\n",
              "      <td>65.0</td>\n",
              "      <td>155.0</td>\n",
              "      <td>BRAF-V600K</td>\n",
              "      <td>Male</td>\n",
              "      <td>head/neck</td>\n",
              "      <td>metastasis</td>\n",
              "      <td>trunk</td>\n",
              "      <td>Tumor</td>\n",
              "      <td>sun-exposed</td>\n",
              "    </tr>\n",
              "    <tr>\n",
              "      <th>3</th>\n",
              "      <td>68.0</td>\n",
              "      <td>1.0</td>\n",
              "      <td>WT</td>\n",
              "      <td>Male</td>\n",
              "      <td>head/neck</td>\n",
              "      <td>primary</td>\n",
              "      <td>head/neck</td>\n",
              "      <td>Tumor</td>\n",
              "      <td>sun-exposed</td>\n",
              "    </tr>\n",
              "    <tr>\n",
              "      <th>4</th>\n",
              "      <td>58.0</td>\n",
              "      <td>2.0</td>\n",
              "      <td>WT</td>\n",
              "      <td>Female</td>\n",
              "      <td>head/neck</td>\n",
              "      <td>primary</td>\n",
              "      <td>head/neck</td>\n",
              "      <td>Tumor</td>\n",
              "      <td>sun-exposed</td>\n",
              "    </tr>\n",
              "    <tr>\n",
              "      <th>5</th>\n",
              "      <td>83.0</td>\n",
              "      <td>986.0</td>\n",
              "      <td>WT</td>\n",
              "      <td>Male</td>\n",
              "      <td>head/neck</td>\n",
              "      <td>metastasis</td>\n",
              "      <td>lung</td>\n",
              "      <td>Tumor</td>\n",
              "      <td>sun-exposed</td>\n",
              "    </tr>\n",
              "    <tr>\n",
              "      <th>6</th>\n",
              "      <td>56.0</td>\n",
              "      <td>92.0</td>\n",
              "      <td>WT</td>\n",
              "      <td>Female</td>\n",
              "      <td>choroid</td>\n",
              "      <td>metastasis</td>\n",
              "      <td>head/neck</td>\n",
              "      <td>Tumor</td>\n",
              "      <td>uveal</td>\n",
              "    </tr>\n",
              "    <tr>\n",
              "      <th>7</th>\n",
              "      <td>80.0</td>\n",
              "      <td>17.0</td>\n",
              "      <td>NRAS-Q61R</td>\n",
              "      <td>Female</td>\n",
              "      <td>heel</td>\n",
              "      <td>primary</td>\n",
              "      <td>sole</td>\n",
              "      <td>Tumor</td>\n",
              "      <td>acral</td>\n",
              "    </tr>\n",
              "  </tbody>\n",
              "</table>\n",
              "</div>"
            ],
            "text/plain": [
              "   Age At Procurement  Mutation Count Mutation Status Person Gender  \\\n",
              "0                85.0             NaN              WT          Male   \n",
              "1                 NaN           288.0       NRAS-Q61R        Female   \n",
              "2                65.0           155.0      BRAF-V600K          Male   \n",
              "3                68.0             1.0              WT          Male   \n",
              "4                58.0             2.0              WT        Female   \n",
              "5                83.0           986.0              WT          Male   \n",
              "6                56.0            92.0              WT        Female   \n",
              "7                80.0            17.0       NRAS-Q61R        Female   \n",
              "\n",
              "  Primary Tumor Site Sample Type Specimen Site Tissue Source Site         Type  \n",
              "0          head/neck     primary     head/neck              Tumor  sun-exposed  \n",
              "1          extremity  metastasis     extremity          Cell line  sun-exposed  \n",
              "2          head/neck  metastasis         trunk              Tumor  sun-exposed  \n",
              "3          head/neck     primary     head/neck              Tumor  sun-exposed  \n",
              "4          head/neck     primary     head/neck              Tumor  sun-exposed  \n",
              "5          head/neck  metastasis          lung              Tumor  sun-exposed  \n",
              "6            choroid  metastasis     head/neck              Tumor        uveal  \n",
              "7               heel     primary          sole              Tumor        acral  "
            ]
          },
          "execution_count": 4,
          "metadata": {},
          "output_type": "execute_result"
        }
      ],
      "source": [
        "df=pd.read_csv(\"piel.csv\",sep=',',header=0)\n",
        "df.head(8)"
      ]
    },
    {
      "cell_type": "code",
      "execution_count": 5,
      "metadata": {
        "colab": {
          "base_uri": "https://localhost:8080/"
        },
        "id": "LybZcuADhYiI",
        "outputId": "dce5b256-d0b5-4f70-b993-50cc0f8af883"
      },
      "outputs": [
        {
          "data": {
            "text/plain": [
              "Age At Procurement    float64\n",
              "Mutation Count        float64\n",
              "Mutation Status        object\n",
              "Person Gender          object\n",
              "Primary Tumor Site     object\n",
              "Sample Type            object\n",
              "Specimen Site          object\n",
              "Tissue Source Site     object\n",
              "Type                   object\n",
              "dtype: object"
            ]
          },
          "execution_count": 5,
          "metadata": {},
          "output_type": "execute_result"
        }
      ],
      "source": [
        "df.dtypes"
      ]
    },
    {
      "cell_type": "code",
      "execution_count": 6,
      "metadata": {
        "colab": {
          "base_uri": "https://localhost:8080/"
        },
        "id": "rZhw1dddhcEc",
        "outputId": "23182c0d-7275-4da0-eaa0-ed774fe6d0b8"
      },
      "outputs": [
        {
          "data": {
            "text/plain": [
              "(91, 9)"
            ]
          },
          "execution_count": 6,
          "metadata": {},
          "output_type": "execute_result"
        }
      ],
      "source": [
        "df.shape"
      ]
    },
    {
      "cell_type": "code",
      "execution_count": 7,
      "metadata": {
        "colab": {
          "base_uri": "https://localhost:8080/",
          "height": 332
        },
        "id": "wRvXTC0hhfZw",
        "outputId": "a1a5cf2d-c6ee-4702-cf78-37d3e79f42d5"
      },
      "outputs": [
        {
          "data": {
            "text/html": [
              "<div>\n",
              "<style scoped>\n",
              "    .dataframe tbody tr th:only-of-type {\n",
              "        vertical-align: middle;\n",
              "    }\n",
              "\n",
              "    .dataframe tbody tr th {\n",
              "        vertical-align: top;\n",
              "    }\n",
              "\n",
              "    .dataframe thead th {\n",
              "        text-align: right;\n",
              "    }\n",
              "</style>\n",
              "<table border=\"1\" class=\"dataframe\">\n",
              "  <thead>\n",
              "    <tr style=\"text-align: right;\">\n",
              "      <th></th>\n",
              "      <th>count</th>\n",
              "      <th>unique</th>\n",
              "      <th>top</th>\n",
              "      <th>freq</th>\n",
              "      <th>mean</th>\n",
              "      <th>std</th>\n",
              "      <th>min</th>\n",
              "      <th>25%</th>\n",
              "      <th>50%</th>\n",
              "      <th>75%</th>\n",
              "      <th>max</th>\n",
              "    </tr>\n",
              "  </thead>\n",
              "  <tbody>\n",
              "    <tr>\n",
              "      <th>Age At Procurement</th>\n",
              "      <td>87.0</td>\n",
              "      <td>NaN</td>\n",
              "      <td>NaN</td>\n",
              "      <td>NaN</td>\n",
              "      <td>64.712644</td>\n",
              "      <td>14.764751</td>\n",
              "      <td>25.0</td>\n",
              "      <td>54.5</td>\n",
              "      <td>64.0</td>\n",
              "      <td>77.5</td>\n",
              "      <td>94.0</td>\n",
              "    </tr>\n",
              "    <tr>\n",
              "      <th>Mutation Count</th>\n",
              "      <td>86.0</td>\n",
              "      <td>NaN</td>\n",
              "      <td>NaN</td>\n",
              "      <td>NaN</td>\n",
              "      <td>261.313953</td>\n",
              "      <td>499.455027</td>\n",
              "      <td>1.0</td>\n",
              "      <td>25.25</td>\n",
              "      <td>109.0</td>\n",
              "      <td>274.25</td>\n",
              "      <td>3642.0</td>\n",
              "    </tr>\n",
              "    <tr>\n",
              "      <th>Mutation Status</th>\n",
              "      <td>90</td>\n",
              "      <td>15</td>\n",
              "      <td>WT</td>\n",
              "      <td>35</td>\n",
              "      <td>NaN</td>\n",
              "      <td>NaN</td>\n",
              "      <td>NaN</td>\n",
              "      <td>NaN</td>\n",
              "      <td>NaN</td>\n",
              "      <td>NaN</td>\n",
              "      <td>NaN</td>\n",
              "    </tr>\n",
              "    <tr>\n",
              "      <th>Person Gender</th>\n",
              "      <td>91</td>\n",
              "      <td>2</td>\n",
              "      <td>Male</td>\n",
              "      <td>59</td>\n",
              "      <td>NaN</td>\n",
              "      <td>NaN</td>\n",
              "      <td>NaN</td>\n",
              "      <td>NaN</td>\n",
              "      <td>NaN</td>\n",
              "      <td>NaN</td>\n",
              "      <td>NaN</td>\n",
              "    </tr>\n",
              "    <tr>\n",
              "      <th>Primary Tumor Site</th>\n",
              "      <td>90</td>\n",
              "      <td>14</td>\n",
              "      <td>trunk</td>\n",
              "      <td>23</td>\n",
              "      <td>NaN</td>\n",
              "      <td>NaN</td>\n",
              "      <td>NaN</td>\n",
              "      <td>NaN</td>\n",
              "      <td>NaN</td>\n",
              "      <td>NaN</td>\n",
              "      <td>NaN</td>\n",
              "    </tr>\n",
              "    <tr>\n",
              "      <th>Sample Type</th>\n",
              "      <td>91</td>\n",
              "      <td>2</td>\n",
              "      <td>metastasis</td>\n",
              "      <td>60</td>\n",
              "      <td>NaN</td>\n",
              "      <td>NaN</td>\n",
              "      <td>NaN</td>\n",
              "      <td>NaN</td>\n",
              "      <td>NaN</td>\n",
              "      <td>NaN</td>\n",
              "      <td>NaN</td>\n",
              "    </tr>\n",
              "    <tr>\n",
              "      <th>Specimen Site</th>\n",
              "      <td>89</td>\n",
              "      <td>15</td>\n",
              "      <td>trunk</td>\n",
              "      <td>30</td>\n",
              "      <td>NaN</td>\n",
              "      <td>NaN</td>\n",
              "      <td>NaN</td>\n",
              "      <td>NaN</td>\n",
              "      <td>NaN</td>\n",
              "      <td>NaN</td>\n",
              "      <td>NaN</td>\n",
              "    </tr>\n",
              "    <tr>\n",
              "      <th>Tissue Source Site</th>\n",
              "      <td>90</td>\n",
              "      <td>2</td>\n",
              "      <td>Tumor</td>\n",
              "      <td>60</td>\n",
              "      <td>NaN</td>\n",
              "      <td>NaN</td>\n",
              "      <td>NaN</td>\n",
              "      <td>NaN</td>\n",
              "      <td>NaN</td>\n",
              "      <td>NaN</td>\n",
              "      <td>NaN</td>\n",
              "    </tr>\n",
              "    <tr>\n",
              "      <th>Type</th>\n",
              "      <td>90</td>\n",
              "      <td>5</td>\n",
              "      <td>sun-exposed</td>\n",
              "      <td>57</td>\n",
              "      <td>NaN</td>\n",
              "      <td>NaN</td>\n",
              "      <td>NaN</td>\n",
              "      <td>NaN</td>\n",
              "      <td>NaN</td>\n",
              "      <td>NaN</td>\n",
              "      <td>NaN</td>\n",
              "    </tr>\n",
              "  </tbody>\n",
              "</table>\n",
              "</div>"
            ],
            "text/plain": [
              "                   count unique          top freq        mean         std  \\\n",
              "Age At Procurement  87.0    NaN          NaN  NaN   64.712644   14.764751   \n",
              "Mutation Count      86.0    NaN          NaN  NaN  261.313953  499.455027   \n",
              "Mutation Status       90     15           WT   35         NaN         NaN   \n",
              "Person Gender         91      2         Male   59         NaN         NaN   \n",
              "Primary Tumor Site    90     14        trunk   23         NaN         NaN   \n",
              "Sample Type           91      2   metastasis   60         NaN         NaN   \n",
              "Specimen Site         89     15        trunk   30         NaN         NaN   \n",
              "Tissue Source Site    90      2        Tumor   60         NaN         NaN   \n",
              "Type                  90      5  sun-exposed   57         NaN         NaN   \n",
              "\n",
              "                     min    25%    50%     75%     max  \n",
              "Age At Procurement  25.0   54.5   64.0    77.5    94.0  \n",
              "Mutation Count       1.0  25.25  109.0  274.25  3642.0  \n",
              "Mutation Status      NaN    NaN    NaN     NaN     NaN  \n",
              "Person Gender        NaN    NaN    NaN     NaN     NaN  \n",
              "Primary Tumor Site   NaN    NaN    NaN     NaN     NaN  \n",
              "Sample Type          NaN    NaN    NaN     NaN     NaN  \n",
              "Specimen Site        NaN    NaN    NaN     NaN     NaN  \n",
              "Tissue Source Site   NaN    NaN    NaN     NaN     NaN  \n",
              "Type                 NaN    NaN    NaN     NaN     NaN  "
            ]
          },
          "execution_count": 7,
          "metadata": {},
          "output_type": "execute_result"
        }
      ],
      "source": [
        "df.describe(include='all').T"
      ]
    },
    {
      "cell_type": "code",
      "execution_count": 8,
      "metadata": {
        "colab": {
          "base_uri": "https://localhost:8080/",
          "height": 919
        },
        "id": "Ndf7d4wJAbQ6",
        "outputId": "0c33f264-901c-45a6-a71a-91361d627802"
      },
      "outputs": [
        {
          "data": {
            "text/plain": [
              "<Axes: >"
            ]
          },
          "execution_count": 8,
          "metadata": {},
          "output_type": "execute_result"
        },
        {
          "data": {
            "image/png": "[encoded data removed]",
            "text/plain": [
              "<Figure size 2500x1000 with 2 Axes>"
            ]
          },
          "metadata": {},
          "output_type": "display_data"
        }
      ],
      "source": [
        "import missingno as msno\n",
        "msno.matrix(df)\n"
      ]
    },
    {
      "cell_type": "code",
      "execution_count": 391,
      "metadata": {
        "colab": {
          "base_uri": "https://localhost:8080/"
        },
        "id": "IUBgkA1Rhh-C",
        "outputId": "0f85f231-c988-4134-98cd-05ad9e00e915"
      },
      "outputs": [
        {
          "data": {
            "text/plain": [
              "Age At Procurement    4\n",
              "Mutation Count        5\n",
              "Mutation Status       1\n",
              "Person Gender         0\n",
              "Primary Tumor Site    1\n",
              "Sample Type           0\n",
              "Specimen Site         2\n",
              "Tissue Source Site    1\n",
              "Type                  1\n",
              "dtype: int64"
            ]
          },
          "execution_count": 391,
          "metadata": {},
          "output_type": "execute_result"
        }
      ],
      "source": [
        "df.isna().sum()"
      ]
    },
    {
      "cell_type": "code",
      "execution_count": 11,
      "metadata": {
        "id": "-ZlOaEgyoRHb"
      },
      "outputs": [
        {
          "data": {
            "text/plain": [
              "array([3, 3, 3, 3, 3, 3, 5, 1, 1, 3, 3, 3, 5, 3, 3, 3, 3, 3, 3, 4, 4, 4,\n",
              "       1, 3, 3, 5, 3, 3, 3, 5, 3, 3, 1, 2, 2, 3, 1, 1, 3, 3, 3, 3, 3, 4,\n",
              "       3, 4, 3, 3, 3, 3, 3, 1, 3, 3, 1, 2, 3, 1, 3, 3, 0, 3, 4, 3, 3, 3,\n",
              "       3, 3, 3, 3, 4, 1, 3, 1, 2, 3, 3, 4, 2, 3, 3, 3, 1, 3, 5, 3, 4, 3,\n",
              "       4, 4, 3])"
            ]
          },
          "execution_count": 11,
          "metadata": {},
          "output_type": "execute_result"
        }
      ],
      "source": [
        "df['Age At Procurement'].fillna(0, inplace=True)\n",
        "df['Mutation Count'].fillna(0, inplace=True)\n",
        "df['Type'].fillna(0, inplace=True)\n",
        "df['Type'] = df['Type'].astype(str)\n",
        "features=['Age At Procurement','Mutation Count','Mutation Status','Person Gender','Primary Tumor Site','Sample Type','Specimen Site','Tissue Source Site']\n",
        "\n",
        "label='Type'\n",
        "le=LabelEncoder()\n",
        "sobrevive=le\n",
        "y=sobrevive.fit_transform(df[label])\n",
        "\n",
        "le_gender = LabelEncoder()\n",
        "le_status = LabelEncoder()\n",
        "le_tumor_site = LabelEncoder()\n",
        "le_sample_type = LabelEncoder()\n",
        "le_specimen_site = LabelEncoder()\n",
        "le_source_site = LabelEncoder()\n",
        "\n",
        "df['Person Gender'] = le_gender.fit_transform(df['Person Gender'])\n",
        "df['Mutation Status'] = le_status.fit_transform(df['Mutation Status'])\n",
        "df['Primary Tumor Site'] = le_tumor_site.fit_transform(df['Primary Tumor Site'])\n",
        "df['Sample Type'] = le_sample_type.fit_transform(df['Sample Type'])\n",
        "df['Specimen Site'] = le_specimen_site.fit_transform(df['Specimen Site'])\n",
        "df['Tissue Source Site'] = le_source_site.fit_transform(df['Tissue Source Site'])\n",
        "y"
      ]
    },
    {
      "cell_type": "code",
      "execution_count": 12,
      "metadata": {
        "colab": {
          "base_uri": "https://localhost:8080/"
        },
        "id": "gY5AWtVdlbjr",
        "outputId": "0b98f611-9b72-4de2-e769-c75f845c38dc"
      },
      "outputs": [
        {
          "data": {
            "text/plain": [
              "Age At Procurement    float64\n",
              "Mutation Count        float64\n",
              "Mutation Status         int64\n",
              "Person Gender           int64\n",
              "Primary Tumor Site      int64\n",
              "Sample Type             int64\n",
              "Specimen Site           int64\n",
              "Tissue Source Site      int64\n",
              "Type                   object\n",
              "dtype: object"
            ]
          },
          "execution_count": 12,
          "metadata": {},
          "output_type": "execute_result"
        }
      ],
      "source": [
        "df.dtypes"
      ]
    },
    {
      "cell_type": "code",
      "execution_count": 14,
      "metadata": {
        "colab": {
          "base_uri": "https://localhost:8080/"
        },
        "id": "F5M1nZYIUKop",
        "outputId": "7a3ea318-bdcb-4825-c613-d6b7d8ac3b26"
      },
      "outputs": [],
      "source": [
        "df.isna().sum()\n"
      ]
    },
    {
      "cell_type": "code",
      "execution_count": 15,
      "metadata": {
        "colab": {
          "base_uri": "https://localhost:8080/"
        },
        "id": "1se3iIdFlWSe",
        "outputId": "55e61809-dae7-4d45-e6e3-dc14b3169d7a"
      },
      "outputs": [
        {
          "name": "stdout",
          "output_type": "stream",
          "text": [
            "xtrain.shape\n",
            "(72, 8)\n",
            "len(ytrain)\n",
            "72\n",
            "xtest.shape \n",
            "(19, 8)\n",
            "len(ytest)\n",
            "19\n"
          ]
        }
      ],
      "source": [
        "xtrain, xtest,ytrain, ytest = train_test_split(df[features],y,test_size=0.20, random_state=0)\n",
        "print('xtrain.shape' )\n",
        "print(xtrain.shape)\n",
        "\n",
        "print('len(ytrain)')\n",
        "print(len(ytrain))\n",
        "\n",
        "print('xtest.shape ')\n",
        "print(xtest.shape)\n",
        "\n",
        "print('len(ytest)')\n",
        "print(len(ytest))\n"
      ]
    },
    {
      "cell_type": "code",
      "execution_count": 16,
      "metadata": {
        "colab": {
          "base_uri": "https://localhost:8080/"
        },
        "id": "6GeKcKuYmbVx",
        "outputId": "c3046a7d-8a34-47db-85bf-7d3836d7c49e"
      },
      "outputs": [
        {
          "data": {
            "text/plain": [
              "Type\n",
              "sun-exposed    57\n",
              "acral          12\n",
              "unknown        11\n",
              "uveal           5\n",
              "mucosal         5\n",
              "0               1\n",
              "Name: count, dtype: int64"
            ]
          },
          "execution_count": 16,
          "metadata": {},
          "output_type": "execute_result"
        }
      ],
      "source": [
        "df['Type'].value_counts()"
      ]
    },
    {
      "cell_type": "code",
      "execution_count": 25,
      "metadata": {
        "id": "uqjVFpgzmjXc"
      },
      "outputs": [
        {
          "name": "stdout",
          "output_type": "stream",
          "text": [
            "3 -> 3\n",
            "3 -> 3\n",
            "3 -> 3\n",
            "3 -> 3\n",
            "3 -> 4\n",
            "3 -> 3\n",
            "3 -> 4\n",
            "3 -> 4\n",
            "3 -> 3\n",
            "3 -> 3\n",
            "3 -> 1\n",
            "3 -> 3\n",
            "3 -> 2\n",
            "3 -> 3\n",
            "3 -> 1\n",
            "3 -> 3\n",
            "3 -> 3\n",
            "3 -> 3\n",
            "3 -> 3\n"
          ]
        }
      ],
      "source": [
        "svm = SVC (probability=True)\n",
        "modelo = svm.fit(xtrain,ytrain)\n",
        "prediccion = modelo.predict(xtest)\n",
        "# prediccion ~ ytest\n",
        "prediccion_lista=prediccion.tolist()\n",
        "ytest_lista = ytest.tolist()\n",
        "\n",
        "i = 0\n",
        "\n",
        "for pred in prediccion_lista:\n",
        "  print(f\"{pred} -> {ytest[i]}\")\n",
        "  i+=1"
      ]
    },
    {
      "cell_type": "code",
      "execution_count": 24,
      "metadata": {
        "colab": {
          "base_uri": "https://localhost:8080/",
          "height": 825
        },
        "id": "SvC8xQEc-Ng_",
        "outputId": "a1b36bb6-361b-4144-f8eb-4bcc5fb4474a"
      },
      "outputs": [
        {
          "name": "stdout",
          "output_type": "stream",
          "text": [
            "score:  0.8947368421052632\n",
            "recall_score:  0.8947368421052632\n",
            "f1_score:  0.8947368421052632\n",
            "classification_report=               precision    recall  f1-score   support\n",
            "\n",
            "           0       0.00      0.00      0.00         1\n",
            "           1       1.00      0.67      0.80         3\n",
            "           2       1.00      1.00      1.00         1\n",
            "           3       0.85      1.00      0.92        11\n",
            "           4       1.00      1.00      1.00         3\n",
            "\n",
            "    accuracy                           0.89        19\n",
            "   macro avg       0.77      0.73      0.74        19\n",
            "weighted avg       0.86      0.89      0.87        19\n",
            "\n"
          ]
        },
        {
          "name": "stderr",
          "output_type": "stream",
          "text": [
            "/home/daarcy/anaconda3/lib/python3.11/site-packages/sklearn/metrics/_classification.py:1344: UndefinedMetricWarning: Precision and F-score are ill-defined and being set to 0.0 in labels with no predicted samples. Use `zero_division` parameter to control this behavior.\n",
            "  _warn_prf(average, modifier, msg_start, len(result))\n",
            "/home/daarcy/anaconda3/lib/python3.11/site-packages/sklearn/metrics/_classification.py:1344: UndefinedMetricWarning: Precision and F-score are ill-defined and being set to 0.0 in labels with no predicted samples. Use `zero_division` parameter to control this behavior.\n",
            "  _warn_prf(average, modifier, msg_start, len(result))\n",
            "/home/daarcy/anaconda3/lib/python3.11/site-packages/sklearn/metrics/_classification.py:1344: UndefinedMetricWarning: Precision and F-score are ill-defined and being set to 0.0 in labels with no predicted samples. Use `zero_division` parameter to control this behavior.\n",
            "  _warn_prf(average, modifier, msg_start, len(result))\n"
          ]
        },
        {
          "name": "stdout",
          "output_type": "stream",
          "text": [
            "score:  0.8947368421052632\n",
            "recall_score:  0.8947368421052632\n",
            "f1_score:  0.8947368421052632\n",
            "classification_report=               precision    recall  f1-score   support\n",
            "\n",
            "           0       0.00      0.00      0.00         1\n",
            "           1       1.00      0.67      0.80         3\n",
            "           2       1.00      1.00      1.00         1\n",
            "           3       0.85      1.00      0.92        11\n",
            "           4       1.00      1.00      1.00         3\n",
            "\n",
            "    accuracy                           0.89        19\n",
            "   macro avg       0.77      0.73      0.74        19\n",
            "weighted avg       0.86      0.89      0.87        19\n",
            "\n"
          ]
        },
        {
          "name": "stderr",
          "output_type": "stream",
          "text": [
            "/home/daarcy/anaconda3/lib/python3.11/site-packages/sklearn/metrics/_classification.py:1344: UndefinedMetricWarning: Precision and F-score are ill-defined and being set to 0.0 in labels with no predicted samples. Use `zero_division` parameter to control this behavior.\n",
            "  _warn_prf(average, modifier, msg_start, len(result))\n",
            "/home/daarcy/anaconda3/lib/python3.11/site-packages/sklearn/metrics/_classification.py:1344: UndefinedMetricWarning: Precision and F-score are ill-defined and being set to 0.0 in labels with no predicted samples. Use `zero_division` parameter to control this behavior.\n",
            "  _warn_prf(average, modifier, msg_start, len(result))\n",
            "/home/daarcy/anaconda3/lib/python3.11/site-packages/sklearn/metrics/_classification.py:1344: UndefinedMetricWarning: Precision and F-score are ill-defined and being set to 0.0 in labels with no predicted samples. Use `zero_division` parameter to control this behavior.\n",
            "  _warn_prf(average, modifier, msg_start, len(result))\n"
          ]
        },
        {
          "data": {
            "image/png": "[encoded data removed]",
            "text/plain": [
              "<Figure size 640x480 with 2 Axes>"
            ]
          },
          "metadata": {},
          "output_type": "display_data"
        }
      ],
      "source": [
        "print('score: ',modelo.score(xtest, ytest))\n",
        "\n",
        "print('recall_score: ', recall_score(prediccion,ytest, average='micro'))\n",
        "\n",
        "print('f1_score: ', f1_score(prediccion,ytest,  average='micro'))\n",
        "\n",
        "print('classification_report=', classification_report(prediccion, ytest))\n",
        "\n",
        "cf= confusion_matrix(prediccion, ytest)\n",
        "asns.heatmap(cf, annot=True, cmap='Blues_r')\n",
        "print('score: ',modelo.score(xtest, ytest))\n",
        "\n",
        "print('recall_score: ', recall_score(prediccion,ytest, average='micro'))\n",
        "\n",
        "print('f1_score: ', f1_score(prediccion,ytest,  average='micro'))\n",
        "\n",
        "print('classification_report=', classification_report(prediccion, ytest))"
      ]
    },
    {
      "cell_type": "code",
      "execution_count": 405,
      "metadata": {
        "colab": {
          "base_uri": "https://localhost:8080/",
          "height": 125
        },
        "id": "Vyc1LSM6nwah",
        "outputId": "8365cc35-fa98-46da-becc-93489bb31907"
      },
      "outputs": [
        {
          "name": "stdout",
          "output_type": "stream",
          "text": [
            "   Age At Procurement  Mutation Count  Mutation Status  Person Gender  \\\n",
            "0                  61              45               60             30   \n",
            "\n",
            "   Primary Tumor Site  Sample Type  Specimen Site  Tissue Source Site  \n",
            "0                  55           20             10                  20  \n"
          ]
        },
        {
          "data": {
            "application/vnd.google.colaboratory.intrinsic+json": {
              "type": "string"
            },
            "text/plain": [
              "'sun-exposed'"
            ]
          },
          "execution_count": 405,
          "metadata": {},
          "output_type": "execute_result"
        }
      ],
      "source": [
        "data = {'Age At Procurement': 61, 'Mutation Count': 246,'Mutation Count':45,'Mutation Status':60,'Person Gender':30,'Primary Tumor Site':55,'Sample Type':20,'Specimen Site':10,'Tissue Source Site':20}\n",
        "\n",
        "pp =pd.DataFrame(data, index=[0])\n",
        "pre_pp= modelo.predict(pp)\n",
        "print(pp)\n",
        "sobrevive.inverse_transform(pre_pp.tolist())[0]"
      ]
    },
    {
      "cell_type": "code",
      "execution_count": 406,
      "metadata": {
        "id": "WKlDa0CWpIA1"
      },
      "outputs": [],
      "source": [
        "#DecisionTreeClassifier\n",
        "svm = DecisionTreeClassifier (max_depth=5)\n",
        "modelo = svm.fit(xtrain,ytrain)\n",
        "prediccion = modelo.predict(xtest)"
      ]
    },
    {
      "cell_type": "code",
      "execution_count": 23,
      "metadata": {
        "colab": {
          "base_uri": "https://localhost:8080/",
          "height": 848
        },
        "id": "LI1MmZRpphr7",
        "outputId": "2e8cbf41-c1fd-4317-9db9-92c54b2fcd42"
      },
      "outputs": [
        {
          "name": "stdout",
          "output_type": "stream",
          "text": [
            "score:  0.8947368421052632\n",
            "recall_score:  0.8947368421052632\n",
            "f1_score:  0.8947368421052632\n",
            "classification_report=               precision    recall  f1-score   support\n",
            "\n",
            "           0       0.00      0.00      0.00         1\n",
            "           1       1.00      0.67      0.80         3\n",
            "           2       1.00      1.00      1.00         1\n",
            "           3       0.85      1.00      0.92        11\n",
            "           4       1.00      1.00      1.00         3\n",
            "\n",
            "    accuracy                           0.89        19\n",
            "   macro avg       0.77      0.73      0.74        19\n",
            "weighted avg       0.86      0.89      0.87        19\n",
            "\n",
            "score:  0.8947368421052632\n"
          ]
        },
        {
          "name": "stderr",
          "output_type": "stream",
          "text": [
            "/home/daarcy/anaconda3/lib/python3.11/site-packages/sklearn/metrics/_classification.py:1344: UndefinedMetricWarning: Precision and F-score are ill-defined and being set to 0.0 in labels with no predicted samples. Use `zero_division` parameter to control this behavior.\n",
            "  _warn_prf(average, modifier, msg_start, len(result))\n",
            "/home/daarcy/anaconda3/lib/python3.11/site-packages/sklearn/metrics/_classification.py:1344: UndefinedMetricWarning: Precision and F-score are ill-defined and being set to 0.0 in labels with no predicted samples. Use `zero_division` parameter to control this behavior.\n",
            "  _warn_prf(average, modifier, msg_start, len(result))\n",
            "/home/daarcy/anaconda3/lib/python3.11/site-packages/sklearn/metrics/_classification.py:1344: UndefinedMetricWarning: Precision and F-score are ill-defined and being set to 0.0 in labels with no predicted samples. Use `zero_division` parameter to control this behavior.\n",
            "  _warn_prf(average, modifier, msg_start, len(result))\n"
          ]
        },
        {
          "name": "stdout",
          "output_type": "stream",
          "text": [
            "recall_score:  0.8947368421052632\n",
            "f1_score:  0.8947368421052632\n",
            "classification_report=               precision    recall  f1-score   support\n",
            "\n",
            "           0       0.00      0.00      0.00         1\n",
            "           1       1.00      0.67      0.80         3\n",
            "           2       1.00      1.00      1.00         1\n",
            "           3       0.85      1.00      0.92        11\n",
            "           4       1.00      1.00      1.00         3\n",
            "\n",
            "    accuracy                           0.89        19\n",
            "   macro avg       0.77      0.73      0.74        19\n",
            "weighted avg       0.86      0.89      0.87        19\n",
            "\n"
          ]
        },
        {
          "name": "stderr",
          "output_type": "stream",
          "text": [
            "/home/daarcy/anaconda3/lib/python3.11/site-packages/sklearn/metrics/_classification.py:1344: UndefinedMetricWarning: Precision and F-score are ill-defined and being set to 0.0 in labels with no predicted samples. Use `zero_division` parameter to control this behavior.\n",
            "  _warn_prf(average, modifier, msg_start, len(result))\n",
            "/home/daarcy/anaconda3/lib/python3.11/site-packages/sklearn/metrics/_classification.py:1344: UndefinedMetricWarning: Precision and F-score are ill-defined and being set to 0.0 in labels with no predicted samples. Use `zero_division` parameter to control this behavior.\n",
            "  _warn_prf(average, modifier, msg_start, len(result))\n",
            "/home/daarcy/anaconda3/lib/python3.11/site-packages/sklearn/metrics/_classification.py:1344: UndefinedMetricWarning: Precision and F-score are ill-defined and being set to 0.0 in labels with no predicted samples. Use `zero_division` parameter to control this behavior.\n",
            "  _warn_prf(average, modifier, msg_start, len(result))\n"
          ]
        },
        {
          "data": {
            "image/png": "[encoded data removed]",
            "text/plain": [
              "<Figure size 640x480 with 2 Axes>"
            ]
          },
          "metadata": {},
          "output_type": "display_data"
        }
      ],
      "source": [
        "import graphviz\n",
        "from sklearn.tree import export_graphviz,DecisionTreeClassifier\n",
        "from IPython.display import Image\n",
        "import pydotplus\n",
        "print('score: ',modelo.score(xtest, ytest))\n",
        "\n",
        "print('recall_score: ', recall_score(prediccion,ytest, average='micro'))\n",
        "\n",
        "print('f1_score: ', f1_score(prediccion,ytest,  average='micro'))\n",
        "\n",
        "print('classification_report=', classification_report(prediccion, ytest))\n",
        "\n",
        "cf= confusion_matrix(prediccion, ytest)\n",
        "asns.heatmap(cf, annot=True, cmap='Blues_r')\n",
        "print('score: ',modelo.score(xtest, ytest))\n",
        "\n",
        "print('recall_score: ', recall_score(prediccion,ytest, average='micro'))\n",
        "\n",
        "print('f1_score: ', f1_score(prediccion,ytest,  average='micro'))\n",
        "\n",
        "print('classification_report=', classification_report(prediccion, ytest))"
      ]
    },
    {
      "cell_type": "code",
      "execution_count": 22,
      "metadata": {
        "colab": {
          "base_uri": "https://localhost:8080/",
          "height": 843
        },
        "id": "y7Mez4YH-PLQ",
        "outputId": "5c460f7b-0a82-4eb5-ce90-ab43fcdceccc"
      },
      "outputs": [
        {
          "name": "stdout",
          "output_type": "stream",
          "text": [
            "score:  0.8947368421052632\n",
            "recall_score:  0.8947368421052632\n",
            "f1_score:  0.8947368421052632\n",
            "classification_report=               precision    recall  f1-score   support\n",
            "\n",
            "           0       0.00      0.00      0.00         1\n",
            "           1       1.00      0.67      0.80         3\n",
            "           2       1.00      1.00      1.00         1\n",
            "           3       0.85      1.00      0.92        11\n",
            "           4       1.00      1.00      1.00         3\n",
            "\n",
            "    accuracy                           0.89        19\n",
            "   macro avg       0.77      0.73      0.74        19\n",
            "weighted avg       0.86      0.89      0.87        19\n",
            "\n"
          ]
        },
        {
          "name": "stderr",
          "output_type": "stream",
          "text": [
            "/home/daarcy/anaconda3/lib/python3.11/site-packages/sklearn/metrics/_classification.py:1344: UndefinedMetricWarning: Precision and F-score are ill-defined and being set to 0.0 in labels with no predicted samples. Use `zero_division` parameter to control this behavior.\n",
            "  _warn_prf(average, modifier, msg_start, len(result))\n",
            "/home/daarcy/anaconda3/lib/python3.11/site-packages/sklearn/metrics/_classification.py:1344: UndefinedMetricWarning: Precision and F-score are ill-defined and being set to 0.0 in labels with no predicted samples. Use `zero_division` parameter to control this behavior.\n",
            "  _warn_prf(average, modifier, msg_start, len(result))\n",
            "/home/daarcy/anaconda3/lib/python3.11/site-packages/sklearn/metrics/_classification.py:1344: UndefinedMetricWarning: Precision and F-score are ill-defined and being set to 0.0 in labels with no predicted samples. Use `zero_division` parameter to control this behavior.\n",
            "  _warn_prf(average, modifier, msg_start, len(result))\n"
          ]
        },
        {
          "data": {
            "text/plain": [
              "<Axes: >"
            ]
          },
          "execution_count": 22,
          "metadata": {},
          "output_type": "execute_result"
        },
        {
          "data": {
            "image/png": "[encoded data removed]",
            "text/plain": [
              "<Figure size 640x480 with 2 Axes>"
            ]
          },
          "metadata": {},
          "output_type": "display_data"
        }
      ],
      "source": [
        "from sklearn.ensemble import GradientBoostingClassifier\n",
        "svm = GradientBoostingClassifier ()\n",
        "modelo = svm.fit(xtrain,ytrain)\n",
        "prediccion = modelo.predict(xtest)\n",
        "print('score: ',modelo.score(xtest, ytest))\n",
        "\n",
        "print('recall_score: ', recall_score(prediccion,ytest, average='micro'))\n",
        "\n",
        "print('f1_score: ', f1_score(prediccion,ytest,  average='micro'))\n",
        "\n",
        "print('classification_report=', classification_report(prediccion, ytest))\n",
        "\n",
        "cf= confusion_matrix(prediccion, ytest)\n",
        "asns.heatmap(cf, annot=True, cmap='Blues_r')"
      ]
    },
    {
      "cell_type": "code",
      "execution_count": 414,
      "metadata": {
        "colab": {
          "base_uri": "https://localhost:8080/"
        },
        "id": "x2PhAmuNpSjm",
        "outputId": "1b88561a-5724-499a-8909-566e135f9af8"
      },
      "outputs": [
        {
          "name": "stdout",
          "output_type": "stream",
          "text": [
            "score:  0.8421052631578947\n",
            "recall_score:  0.8421052631578947\n",
            "f1_score:  0.8421052631578947\n",
            "classification_report=               precision    recall  f1-score   support\n",
            "\n",
            "           0       0.00      0.00      0.00         1\n",
            "           1       0.50      0.50      0.50         2\n",
            "           2       1.00      0.50      0.67         2\n",
            "           3       0.85      1.00      0.92        11\n",
            "           4       1.00      1.00      1.00         3\n",
            "\n",
            "    accuracy                           0.84        19\n",
            "   macro avg       0.67      0.60      0.62        19\n",
            "weighted avg       0.81      0.84      0.81        19\n",
            "\n"
          ]
        },
        {
          "name": "stderr",
          "output_type": "stream",
          "text": [
            "/usr/local/lib/python3.10/dist-packages/sklearn/metrics/_classification.py:1344: UndefinedMetricWarning: Precision and F-score are ill-defined and being set to 0.0 in labels with no predicted samples. Use `zero_division` parameter to control this behavior.\n",
            "  _warn_prf(average, modifier, msg_start, len(result))\n",
            "/usr/local/lib/python3.10/dist-packages/sklearn/metrics/_classification.py:1344: UndefinedMetricWarning: Precision and F-score are ill-defined and being set to 0.0 in labels with no predicted samples. Use `zero_division` parameter to control this behavior.\n",
            "  _warn_prf(average, modifier, msg_start, len(result))\n",
            "/usr/local/lib/python3.10/dist-packages/sklearn/metrics/_classification.py:1344: UndefinedMetricWarning: Precision and F-score are ill-defined and being set to 0.0 in labels with no predicted samples. Use `zero_division` parameter to control this behavior.\n",
            "  _warn_prf(average, modifier, msg_start, len(result))\n"
          ]
        }
      ],
      "source": [
        "print('score: ',modelo.score(xtest, ytest))\n",
        "\n",
        "print('recall_score: ', recall_score(prediccion,ytest, average='micro'))\n",
        "\n",
        "print('f1_score: ', f1_score(prediccion,ytest,  average='micro'))\n",
        "\n",
        "print('classification_report=', classification_report(prediccion, ytest))"
      ]
    }
  ],
  "metadata": {
    "colab": {
      "provenance": []
    },
    "kernelspec": {
      "display_name": "Python 3",
      "name": "python3"
    },
    "language_info": {
      "codemirror_mode": {
        "name": "ipython",
        "version": 3
      },
      "file_extension": ".py",
      "mimetype": "text/x-python",
      "name": "python",
      "nbconvert_exporter": "python",
      "pygments_lexer": "ipython3",
      "version": "3.11.5"
    }
  },
  "nbformat": 4,
  "nbformat_minor": 0
}
